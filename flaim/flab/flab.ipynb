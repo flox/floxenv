{
 "cells": [
  {
   "cell_type": "markdown",
   "metadata": {},
   "source": [
    "## Setup"
   ]
  },
  {
   "cell_type": "code",
   "execution_count": null,
   "metadata": {},
   "outputs": [],
   "source": [
    "import warnings\n",
    "\n",
    "from diffusers import (\n",
    "    StableDiffusionXLPipeline,\n",
    "    StableDiffusionLatentUpscalePipeline,\n",
    "    EulerAncestralDiscreteScheduler,\n",
    "    AutoencoderKL,\n",
    "    logging,\n",
    "    StableDiffusionInstructPix2PixPipeline,\n",
    ")\n",
    "\n",
    "import torch\n",
    "from PIL import Image\n",
    "from imgcat import imgcat\n",
    "import sys\n",
    "import gc\n",
    "from fancyInput import HorizontalOptionGroup, NumberOption\n",
    "from rich import print\n",
    "from rich.panel import Panel"
   ]
  },
  {
   "cell_type": "code",
   "execution_count": null,
   "metadata": {},
   "outputs": [],
   "source": [
    "if torch.cuda.is_available():\n",
    "    device = \"cuda\"\n",
    "elif torch.backends.mps.is_available():\n",
    "    device = \"mps\"\n",
    "else:\n",
    "    device = \"\""
   ]
  },
  {
   "cell_type": "code",
   "execution_count": null,
   "metadata": {},
   "outputs": [],
   "source": [
    "prompt = \"an aircraft hangar\"\n",
    "\n",
    "loaded_prompt = (\n",
    "    \"concept art\"\n",
    "    + prompt\n",
    "    + \", high quality, (magical), (nature), (futuristic), digital artwork, highly detailed\"\n",
    ")\n",
    "negative_prompt = \"nsfw, cartoon, bad quality, bad anatomy, worst quality, low quality, low resolutions, extra fingers, blur, blurry, ugly, wrong proportions, watermark, image artifacts, lowres, ugly, jpeg artifacts, deformed, noisy image\""
   ]
  },
  {
   "cell_type": "markdown",
   "metadata": {},
   "source": [
    "## Proteus"
   ]
  },
  {
   "cell_type": "code",
   "execution_count": null,
   "metadata": {},
   "outputs": [],
   "source": [
    "vae = AutoencoderKL.from_pretrained(\n",
    "    \"madebyollin/sdxl-vae-fp16-fix\", torch_dtype=torch.float16\n",
    ")\n",
    "\n",
    "pipe = StableDiffusionXLPipeline.from_pretrained(\n",
    "    \"dataautogpt3/ProteusV0.4-Lightning\", vae=vae, torch_dtype=torch.float16\n",
    ").to(device)\n",
    "\n",
    "pipe.scheduler = EulerAncestralDiscreteScheduler.from_config(pipe.scheduler.config)"
   ]
  },
  {
   "cell_type": "code",
   "execution_count": null,
   "metadata": {},
   "outputs": [],
   "source": [
    "protoimages = pipe(\n",
    "    prompt,\n",
    "    negative_prompt=negative_prompt,\n",
    "    num_images_per_prompt=3,\n",
    "    width=1024,\n",
    "    height=1024,\n",
    "    guidance_scale=3.5,\n",
    "    num_inference_steps=8,\n",
    ").images"
   ]
  },
  {
   "cell_type": "code",
   "execution_count": null,
   "metadata": {},
   "outputs": [],
   "source": [
    "protocomp = Image.new(\"RGB\", (3072, 600))\n",
    "\n",
    "x_offset = 0\n",
    "for im in protoimages:\n",
    "    protocomp.paste(im, (x_offset, -212))\n",
    "    x_offset += im.size[0]\n",
    "\n",
    "protocomp"
   ]
  },
  {
   "cell_type": "markdown",
   "metadata": {},
   "source": [
    "## Instruct pix2pix"
   ]
  },
  {
   "cell_type": "code",
   "execution_count": null,
   "metadata": {},
   "outputs": [],
   "source": [
    "model_id = \"timbrooks/instruct-pix2pix\"\n",
    "pipe = StableDiffusionInstructPix2PixPipeline.from_pretrained(\n",
    "    model_id, torch_dtype=torch.float16, safety_checker=None\n",
    ")\n",
    "pipe.to(device)\n",
    "pipe.scheduler = EulerAncestralDiscreteScheduler.from_config(pipe.scheduler.config)"
   ]
  },
  {
   "cell_type": "code",
   "execution_count": null,
   "metadata": {},
   "outputs": [],
   "source": [
    "prompt = \"amazing, high quality, dreamlike, futuristic, colorful, vibrant\"\n",
    "# prompt = \"make image air brushed, painted, gradients\"\n",
    "image = pipe(\n",
    "    prompt,\n",
    "    image=protoimages[2],\n",
    "    num_inference_steps=15,\n",
    "    image_guidance_scale=1,\n",
    ").images[0]\n",
    "\n",
    "image"
   ]
  },
  {
   "cell_type": "markdown",
   "metadata": {},
   "source": [
    "## Upscaler"
   ]
  },
  {
   "cell_type": "code",
   "execution_count": null,
   "metadata": {},
   "outputs": [],
   "source": [
    "pipe = None\n",
    "if device == \"cuda\":\n",
    "    torch.cuda.empty_cache()\n",
    "if device == \"mps\":\n",
    "    torch.mps.empty_cache()\n",
    "    torch.mps.current_allocated_memory()\n",
    "gc.collect()"
   ]
  },
  {
   "cell_type": "code",
   "execution_count": null,
   "metadata": {},
   "outputs": [],
   "source": [
    "upscaler = StableDiffusionLatentUpscalePipeline.from_pretrained(\n",
    "    \"stabilityai/sd-x2-latent-upscaler\", torch_dtype=torch.float16\n",
    ").to(device)"
   ]
  },
  {
   "cell_type": "code",
   "execution_count": null,
   "metadata": {},
   "outputs": [],
   "source": [
    "upscaled_image = upscaler(\n",
    "    prompt=loaded_prompt,\n",
    "    negative_prompt=negative_prompt,\n",
    "    image=image,\n",
    "    num_inference_steps=20,\n",
    "    guidance_scale=0,\n",
    ").images[0]\n",
    "\n",
    "upscaled_image"
   ]
  },
  {
   "cell_type": "code",
   "execution_count": null,
   "metadata": {},
   "outputs": [],
   "source": [
    "cropped_image = upscaled_image.crop(\n",
    "    (24, 424, 2024, 1624)\n",
    ")  # from 2048/1024 to 2000/1200\n",
    "\n",
    "cropped_image"
   ]
  }
 ],
 "metadata": {
  "kernelspec": {
   "display_name": "venv",
   "language": "python",
   "name": "python3"
  },
  "language_info": {
   "codemirror_mode": {
    "name": "ipython",
    "version": 3
   },
   "file_extension": ".py",
   "mimetype": "text/x-python",
   "name": "python",
   "nbconvert_exporter": "python",
   "pygments_lexer": "ipython3",
   "version": "3.11.9"
  }
 },
 "nbformat": 4,
 "nbformat_minor": 2
}
