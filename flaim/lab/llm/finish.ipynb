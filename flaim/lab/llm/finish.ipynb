{
 "cells": [
  {
   "cell_type": "code",
   "execution_count": 1,
   "metadata": {},
   "outputs": [],
   "source": [
    "from ctransformers import AutoModelForCausalLM\n"
   ]
  },
  {
   "cell_type": "code",
   "execution_count": 8,
   "metadata": {},
   "outputs": [
    {
     "data": {
      "application/vnd.jupyter.widget-view+json": {
       "model_id": "66a7b403fb66499895459c9498c2c338",
       "version_major": 2,
       "version_minor": 0
      },
      "text/plain": [
       "Fetching 1 files:   0%|          | 0/1 [00:00<?, ?it/s]"
      ]
     },
     "metadata": {},
     "output_type": "display_data"
    },
    {
     "data": {
      "application/vnd.jupyter.widget-view+json": {
       "model_id": "db5689e8f4a04d33850e7baaef731536",
       "version_major": 2,
       "version_minor": 0
      },
      "text/plain": [
       "config.json:   0%|          | 0.00/29.0 [00:00<?, ?B/s]"
      ]
     },
     "metadata": {},
     "output_type": "display_data"
    },
    {
     "data": {
      "application/vnd.jupyter.widget-view+json": {
       "model_id": "74f798153dfb40b0948e2bc9a90cd832",
       "version_major": 2,
       "version_minor": 0
      },
      "text/plain": [
       "Fetching 1 files:   0%|          | 0/1 [00:00<?, ?it/s]"
      ]
     },
     "metadata": {},
     "output_type": "display_data"
    },
    {
     "data": {
      "application/vnd.jupyter.widget-view+json": {
       "model_id": "d7ebdec93e8940818de4e8d8378bbfca",
       "version_major": 2,
       "version_minor": 0
      },
      "text/plain": [
       "llama-2-7b-chat.Q2_K.gguf:   0%|          | 0.00/2.83G [00:00<?, ?B/s]"
      ]
     },
     "metadata": {},
     "output_type": "display_data"
    }
   ],
   "source": [
    "llm = AutoModelForCausalLM.from_pretrained(\"TheBloke/Llama-2-7b-Chat-GGUF\")\n"
   ]
  },
  {
   "cell_type": "code",
   "execution_count": 11,
   "metadata": {},
   "outputs": [
    {
     "name": "stdout",
     "output_type": "stream",
     "text": [
      " it allows them to create, test, and deploy applications quickly and efficiently.ℓ For this reason, there are a variety of development teams that rely on Flox as their go-to platform for building software. In this blog post, we will explore some of the key reasons why Flox is such an important tool for software developers and what it offers to these professionals.\n",
      "Reasons why Flox is important for software developers:\n",
      "1. Rapid Prototyping: With Flox, developers can quickly create prototypes of their applications, allowing them to test and refine their ideas in a matter of minutes rather than days or weeks. This enables developers to iterate faster and more frequently, leading to better user experiences and improved customer satisfaction.\n",
      "2. Collaboration: Flox enables seamless collaboration between developers by allowing them to share and collaborate on codebases, which can significantly reduce the time it takes to complete projects. By working together in real-time, developers can also ensure that their work is accurate and of high quality, leading to fewer errors and bugs.\n",
      "3. Version Control: Flox includes an advanced version control system that makes it easy for developers to manage different versions of their codebase. This ensures that everyone"
     ]
    }
   ],
   "source": [
    "\n",
    "for text in llm(\"Flox is an important tool for software developers because \", stream=True):\n",
    "    print(text, end=\"\", flush=True)\n"
   ]
  }
 ],
 "metadata": {
  "kernelspec": {
   "display_name": "venv",
   "language": "python",
   "name": "python3"
  },
  "language_info": {
   "codemirror_mode": {
    "name": "ipython",
    "version": 3
   },
   "file_extension": ".py",
   "mimetype": "text/x-python",
   "name": "python",
   "nbconvert_exporter": "python",
   "pygments_lexer": "ipython3",
   "version": "3.12.2"
  }
 },
 "nbformat": 4,
 "nbformat_minor": 2
}
